{
 "cells": [
  {
   "cell_type": "code",
   "execution_count": 30,
   "id": "af6c52f0-a74a-48eb-8f93-71976fdbec11",
   "metadata": {},
   "outputs": [],
   "source": [
    "# Very important note! Before getting started, you need to download AffectVec v1.0 in vector version. \n",
    "# Available here: http://emotion.nlproc.org/\n",
    "\n",
    "#load packages\n",
    "from gensim.models import KeyedVectors\n",
    "import numpy as np\n",
    "import re"
   ]
  },
  {
   "cell_type": "code",
   "execution_count": 23,
   "id": "82597dc1-1019-456b-9c89-3e6364e46fe0",
   "metadata": {},
   "outputs": [],
   "source": [
    "# Load word vectors\n",
    "word_vectors = KeyedVectors.load_word2vec_format(\"AffectVec-v1.0-vectors/AffectVec-data.txt\", binary=False)\n",
    "\n",
    "# Open and read columns.txt line by line\n",
    "with open('AffectVec-v1.0-vectors/columns.txt', 'r') as file:\n",
    "    for line in file:\n",
    "        parts = line.strip().split(' - ')\n",
    "        # Append the emotion label (second part) to the list\n",
    "        if len(parts) > 1:\n",
    "            emotion_labels.append(parts[1])\n"
   ]
  },
  {
   "cell_type": "code",
   "execution_count": 29,
   "id": "a10f8d72-9d64-4ef1-b955-ed6baefea1cd",
   "metadata": {},
   "outputs": [
    {
     "name": "stdout",
     "output_type": "stream",
     "text": [
      "Analysis complete. Results saved to: scene_emotion_analysis.csv\n"
     ]
    }
   ],
   "source": [
    "def analyze_scene_emotions(recall):\n",
    "    words = re.findall(r'\\b\\w+\\b', recall.lower())  # Clean and split recall into words\n",
    "    emotion_scores_sum = np.zeros(len(emotion_labels))  # Sum of scores for each emotion\n",
    "    word_count = 0  # Track valid words in AffectVec\n",
    "\n",
    "    for word in words:\n",
    "        if word in word_vectors:  # Check if word exists in AffectVec\n",
    "            scores = word_vectors[word]\n",
    "            emotion_scores_sum += scores\n",
    "            word_count += 1\n",
    "\n",
    "    if word_count > 0:\n",
    "        average_emotion_scores = emotion_scores_sum / word_count\n",
    "    else:\n",
    "        return None  # No valid words in AffectVec\n",
    "\n",
    "    # Return a dictionary of average scores for each emotion\n",
    "    return {label: score for label, score in zip(emotion_labels, average_emotion_scores)}\n",
    "\n",
    "# Load the CSV file with free recall (NOTE: the data must be structured such that each row refers to one recalled scene\n",
    "input_csv = \"\"  # Replace with your actual CSV file path\n",
    "data = pd.read_csv(input_csv)\n",
    "\n",
    "# Analyze each scene recall and store the results\n",
    "results = []\n",
    "for index, row in data.iterrows():\n",
    "    recall = row['scene_recall']  # Replace 'scene_recall' with the actual column name in your CSV\n",
    "    emotion_scores = analyze_scene_emotions(recall)\n",
    "    if emotion_scores is not None:\n",
    "        emotion_scores['scene_recall'] = recall\n",
    "        emotion_scores['scene_id'] = index\n",
    "        results.append(emotion_scores)\n",
    "\n",
    "# Convert results to a DataFrame\n",
    "results_df = pd.DataFrame(results)\n",
    "\n",
    "# Reorder columns so that scene_id and scene_recall appear first\n",
    "columns_order = ['scene_id', 'scene_recall'] + emotion_labels\n",
    "results_df = results_df[columns_order]\n",
    "\n",
    "# Display or save the DataFrame to a new CSV file\n",
    "output_csv = \"scene_emotion_analysis.csv\"  # Specify your output file path\n",
    "results_df.to_csv(output_csv, index=False)\n",
    "\n",
    "print(\"Analysis complete. Results saved to:\", output_csv)"
   ]
  }
 ],
 "metadata": {
  "kernelspec": {
   "display_name": "Python 3 (ipykernel)",
   "language": "python",
   "name": "python3"
  },
  "language_info": {
   "codemirror_mode": {
    "name": "ipython",
    "version": 3
   },
   "file_extension": ".py",
   "mimetype": "text/x-python",
   "name": "python",
   "nbconvert_exporter": "python",
   "pygments_lexer": "ipython3",
   "version": "3.11.7"
  }
 },
 "nbformat": 4,
 "nbformat_minor": 5
}
